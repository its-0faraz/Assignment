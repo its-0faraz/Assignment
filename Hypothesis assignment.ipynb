{
 "cells": [
  {
   "cell_type": "code",
   "execution_count": 67,
   "id": "5661da41",
   "metadata": {
    "ExecuteTime": {
     "end_time": "2023-09-08T20:20:33.246102Z",
     "start_time": "2023-09-08T20:20:33.225231Z"
    }
   },
   "outputs": [],
   "source": [
    "import pandas as pd\n",
    "import numpy as np\n",
    "import statistics as stat\n",
    "import seaborn as sns\n",
    "import scipy.stats as scipy\n",
    "import matplotlib.pyplot as plt\n",
    "from scipy import stats\n",
    "from scipy.stats import chi2_contingency"
   ]
  },
  {
   "cell_type": "markdown",
   "id": "bb46a76f",
   "metadata": {},
   "source": [
    "# Question1 cutlets"
   ]
  },
  {
   "cell_type": "code",
   "execution_count": 19,
   "id": "252caf70",
   "metadata": {
    "ExecuteTime": {
     "end_time": "2023-09-08T13:34:20.589901Z",
     "start_time": "2023-09-08T13:34:20.580956Z"
    }
   },
   "outputs": [],
   "source": [
    "df1 = pd.read_csv('C:/Users/faraz/Downloads/Cutlets.csv')"
   ]
  },
  {
   "cell_type": "code",
   "execution_count": 20,
   "id": "df6cc15e",
   "metadata": {
    "ExecuteTime": {
     "end_time": "2023-09-08T13:34:23.310205Z",
     "start_time": "2023-09-08T13:34:23.300230Z"
    }
   },
   "outputs": [
    {
     "data": {
      "text/html": [
       "<div>\n",
       "<style scoped>\n",
       "    .dataframe tbody tr th:only-of-type {\n",
       "        vertical-align: middle;\n",
       "    }\n",
       "\n",
       "    .dataframe tbody tr th {\n",
       "        vertical-align: top;\n",
       "    }\n",
       "\n",
       "    .dataframe thead th {\n",
       "        text-align: right;\n",
       "    }\n",
       "</style>\n",
       "<table border=\"1\" class=\"dataframe\">\n",
       "  <thead>\n",
       "    <tr style=\"text-align: right;\">\n",
       "      <th></th>\n",
       "      <th>Unit A</th>\n",
       "      <th>Unit B</th>\n",
       "    </tr>\n",
       "  </thead>\n",
       "  <tbody>\n",
       "    <tr>\n",
       "      <th>0</th>\n",
       "      <td>6.8090</td>\n",
       "      <td>6.7703</td>\n",
       "    </tr>\n",
       "    <tr>\n",
       "      <th>1</th>\n",
       "      <td>6.4376</td>\n",
       "      <td>7.5093</td>\n",
       "    </tr>\n",
       "    <tr>\n",
       "      <th>2</th>\n",
       "      <td>6.9157</td>\n",
       "      <td>6.7300</td>\n",
       "    </tr>\n",
       "    <tr>\n",
       "      <th>3</th>\n",
       "      <td>7.3012</td>\n",
       "      <td>6.7878</td>\n",
       "    </tr>\n",
       "    <tr>\n",
       "      <th>4</th>\n",
       "      <td>7.4488</td>\n",
       "      <td>7.1522</td>\n",
       "    </tr>\n",
       "  </tbody>\n",
       "</table>\n",
       "</div>"
      ],
      "text/plain": [
       "   Unit A  Unit B\n",
       "0  6.8090  6.7703\n",
       "1  6.4376  7.5093\n",
       "2  6.9157  6.7300\n",
       "3  7.3012  6.7878\n",
       "4  7.4488  7.1522"
      ]
     },
     "execution_count": 20,
     "metadata": {},
     "output_type": "execute_result"
    }
   ],
   "source": [
    "df1.head()"
   ]
  },
  {
   "cell_type": "code",
   "execution_count": 21,
   "id": "9621e02c",
   "metadata": {
    "ExecuteTime": {
     "end_time": "2023-09-08T13:34:26.124025Z",
     "start_time": "2023-09-08T13:34:26.108097Z"
    }
   },
   "outputs": [
    {
     "data": {
      "text/html": [
       "<div>\n",
       "<style scoped>\n",
       "    .dataframe tbody tr th:only-of-type {\n",
       "        vertical-align: middle;\n",
       "    }\n",
       "\n",
       "    .dataframe tbody tr th {\n",
       "        vertical-align: top;\n",
       "    }\n",
       "\n",
       "    .dataframe thead th {\n",
       "        text-align: right;\n",
       "    }\n",
       "</style>\n",
       "<table border=\"1\" class=\"dataframe\">\n",
       "  <thead>\n",
       "    <tr style=\"text-align: right;\">\n",
       "      <th></th>\n",
       "      <th>Unit A</th>\n",
       "      <th>Unit B</th>\n",
       "    </tr>\n",
       "  </thead>\n",
       "  <tbody>\n",
       "    <tr>\n",
       "      <th>count</th>\n",
       "      <td>35.000000</td>\n",
       "      <td>35.000000</td>\n",
       "    </tr>\n",
       "    <tr>\n",
       "      <th>mean</th>\n",
       "      <td>7.019091</td>\n",
       "      <td>6.964297</td>\n",
       "    </tr>\n",
       "    <tr>\n",
       "      <th>std</th>\n",
       "      <td>0.288408</td>\n",
       "      <td>0.343401</td>\n",
       "    </tr>\n",
       "    <tr>\n",
       "      <th>min</th>\n",
       "      <td>6.437600</td>\n",
       "      <td>6.038000</td>\n",
       "    </tr>\n",
       "    <tr>\n",
       "      <th>25%</th>\n",
       "      <td>6.831500</td>\n",
       "      <td>6.753600</td>\n",
       "    </tr>\n",
       "    <tr>\n",
       "      <th>50%</th>\n",
       "      <td>6.943800</td>\n",
       "      <td>6.939900</td>\n",
       "    </tr>\n",
       "    <tr>\n",
       "      <th>75%</th>\n",
       "      <td>7.280550</td>\n",
       "      <td>7.195000</td>\n",
       "    </tr>\n",
       "    <tr>\n",
       "      <th>max</th>\n",
       "      <td>7.516900</td>\n",
       "      <td>7.545900</td>\n",
       "    </tr>\n",
       "  </tbody>\n",
       "</table>\n",
       "</div>"
      ],
      "text/plain": [
       "          Unit A     Unit B\n",
       "count  35.000000  35.000000\n",
       "mean    7.019091   6.964297\n",
       "std     0.288408   0.343401\n",
       "min     6.437600   6.038000\n",
       "25%     6.831500   6.753600\n",
       "50%     6.943800   6.939900\n",
       "75%     7.280550   7.195000\n",
       "max     7.516900   7.545900"
      ]
     },
     "execution_count": 21,
     "metadata": {},
     "output_type": "execute_result"
    }
   ],
   "source": [
    "df1.describe()"
   ]
  },
  {
   "cell_type": "code",
   "execution_count": 26,
   "id": "1ab47e44",
   "metadata": {
    "ExecuteTime": {
     "end_time": "2023-09-08T13:35:54.086490Z",
     "start_time": "2023-09-08T13:35:54.075509Z"
    }
   },
   "outputs": [],
   "source": [
    "Unit_A = df1['Unit A']\n",
    "Unit_B = df1['Unit B']"
   ]
  },
  {
   "cell_type": "code",
   "execution_count": 101,
   "id": "112b59d2",
   "metadata": {
    "ExecuteTime": {
     "end_time": "2023-09-09T11:16:15.332971Z",
     "start_time": "2023-09-09T11:16:15.306012Z"
    }
   },
   "outputs": [
    {
     "name": "stdout",
     "output_type": "stream",
     "text": [
      "0.7228688704678063 0.4722394724599501\n"
     ]
    }
   ],
   "source": [
    "t,p_value= stats.ttest_ind(Unit_A,Unit_B)\n",
    "print(t,p_value)"
   ]
  },
  {
   "cell_type": "code",
   "execution_count": 102,
   "id": "d6122236",
   "metadata": {
    "ExecuteTime": {
     "end_time": "2023-09-09T11:19:01.569476Z",
     "start_time": "2023-09-09T11:19:01.554516Z"
    }
   },
   "outputs": [
    {
     "name": "stdout",
     "output_type": "stream",
     "text": [
      "There is no significance difference in diameter\n"
     ]
    }
   ],
   "source": [
    "alpha = 0.05\n",
    "if p_value > alpha:\n",
    "    print(\"There is no significance difference in diameter\")\n",
    "else:\n",
    "    print(\"Both the diameters are different\")\n"
   ]
  },
  {
   "cell_type": "markdown",
   "id": "9199b614",
   "metadata": {},
   "source": [
    "# Question2 "
   ]
  },
  {
   "cell_type": "code",
   "execution_count": 34,
   "id": "db9beb76",
   "metadata": {
    "ExecuteTime": {
     "end_time": "2023-09-08T13:47:45.849967Z",
     "start_time": "2023-09-08T13:47:45.837002Z"
    }
   },
   "outputs": [],
   "source": [
    "df2 = pd.read_csv('C:/Users/faraz/Downloads/LabTAT.csv')"
   ]
  },
  {
   "cell_type": "code",
   "execution_count": 35,
   "id": "4368a165",
   "metadata": {
    "ExecuteTime": {
     "end_time": "2023-09-08T13:47:51.820414Z",
     "start_time": "2023-09-08T13:47:51.796478Z"
    }
   },
   "outputs": [
    {
     "data": {
      "text/html": [
       "<div>\n",
       "<style scoped>\n",
       "    .dataframe tbody tr th:only-of-type {\n",
       "        vertical-align: middle;\n",
       "    }\n",
       "\n",
       "    .dataframe tbody tr th {\n",
       "        vertical-align: top;\n",
       "    }\n",
       "\n",
       "    .dataframe thead th {\n",
       "        text-align: right;\n",
       "    }\n",
       "</style>\n",
       "<table border=\"1\" class=\"dataframe\">\n",
       "  <thead>\n",
       "    <tr style=\"text-align: right;\">\n",
       "      <th></th>\n",
       "      <th>Laboratory 1</th>\n",
       "      <th>Laboratory 2</th>\n",
       "      <th>Laboratory 3</th>\n",
       "      <th>Laboratory 4</th>\n",
       "    </tr>\n",
       "  </thead>\n",
       "  <tbody>\n",
       "    <tr>\n",
       "      <th>0</th>\n",
       "      <td>185.35</td>\n",
       "      <td>165.53</td>\n",
       "      <td>176.70</td>\n",
       "      <td>166.13</td>\n",
       "    </tr>\n",
       "    <tr>\n",
       "      <th>1</th>\n",
       "      <td>170.49</td>\n",
       "      <td>185.91</td>\n",
       "      <td>198.45</td>\n",
       "      <td>160.79</td>\n",
       "    </tr>\n",
       "    <tr>\n",
       "      <th>2</th>\n",
       "      <td>192.77</td>\n",
       "      <td>194.92</td>\n",
       "      <td>201.23</td>\n",
       "      <td>185.18</td>\n",
       "    </tr>\n",
       "    <tr>\n",
       "      <th>3</th>\n",
       "      <td>177.33</td>\n",
       "      <td>183.00</td>\n",
       "      <td>199.61</td>\n",
       "      <td>176.42</td>\n",
       "    </tr>\n",
       "    <tr>\n",
       "      <th>4</th>\n",
       "      <td>193.41</td>\n",
       "      <td>169.57</td>\n",
       "      <td>204.63</td>\n",
       "      <td>152.60</td>\n",
       "    </tr>\n",
       "  </tbody>\n",
       "</table>\n",
       "</div>"
      ],
      "text/plain": [
       "   Laboratory 1  Laboratory 2  Laboratory 3  Laboratory 4\n",
       "0        185.35        165.53        176.70        166.13\n",
       "1        170.49        185.91        198.45        160.79\n",
       "2        192.77        194.92        201.23        185.18\n",
       "3        177.33        183.00        199.61        176.42\n",
       "4        193.41        169.57        204.63        152.60"
      ]
     },
     "execution_count": 35,
     "metadata": {},
     "output_type": "execute_result"
    }
   ],
   "source": [
    "df2.head()"
   ]
  },
  {
   "cell_type": "code",
   "execution_count": 40,
   "id": "981827ee",
   "metadata": {
    "ExecuteTime": {
     "end_time": "2023-09-08T13:55:57.313129Z",
     "start_time": "2023-09-08T13:55:57.300165Z"
    }
   },
   "outputs": [],
   "source": [
    "l1,l2,l3,l4=df2['Laboratory 1'],df2['Laboratory 2'],df2['Laboratory 3'],df2['Laboratory 4']"
   ]
  },
  {
   "cell_type": "code",
   "execution_count": 104,
   "id": "da6a839e",
   "metadata": {
    "ExecuteTime": {
     "end_time": "2023-09-09T11:32:24.736222Z",
     "start_time": "2023-09-09T11:32:24.722258Z"
    }
   },
   "outputs": [
    {
     "name": "stdout",
     "output_type": "stream",
     "text": [
      "118.70421654401437 2.1156708949992414e-57\n"
     ]
    }
   ],
   "source": [
    "f,p_value1=stats.f_oneway(l1,l2,l3,l4)\n",
    "print(f,p_value1)"
   ]
  },
  {
   "cell_type": "code",
   "execution_count": 105,
   "id": "22218dae",
   "metadata": {
    "ExecuteTime": {
     "end_time": "2023-09-09T11:34:14.553549Z",
     "start_time": "2023-09-09T11:34:14.547567Z"
    }
   },
   "outputs": [
    {
     "name": "stdout",
     "output_type": "stream",
     "text": [
      "All the labs have different Turn around time\n"
     ]
    }
   ],
   "source": [
    "if p_value1 > alpha:\n",
    "    print(\"All the labs have same Turn around time\")\n",
    "else:\n",
    "    print(\"All the labs have different Turn around time\")"
   ]
  },
  {
   "cell_type": "markdown",
   "id": "46f5aac6",
   "metadata": {},
   "source": [
    "# Question 3"
   ]
  },
  {
   "cell_type": "code",
   "execution_count": 71,
   "id": "00c2da62",
   "metadata": {
    "ExecuteTime": {
     "end_time": "2023-09-08T20:36:39.790757Z",
     "start_time": "2023-09-08T20:36:39.768810Z"
    }
   },
   "outputs": [],
   "source": [
    "df3 = pd.read_csv('C:/Users/faraz/Downloads/BuyerRatio.csv')"
   ]
  },
  {
   "cell_type": "code",
   "execution_count": 54,
   "id": "f4cfcf2d",
   "metadata": {
    "ExecuteTime": {
     "end_time": "2023-09-08T15:01:45.184937Z",
     "start_time": "2023-09-08T15:01:45.169989Z"
    }
   },
   "outputs": [
    {
     "data": {
      "text/html": [
       "<div>\n",
       "<style scoped>\n",
       "    .dataframe tbody tr th:only-of-type {\n",
       "        vertical-align: middle;\n",
       "    }\n",
       "\n",
       "    .dataframe tbody tr th {\n",
       "        vertical-align: top;\n",
       "    }\n",
       "\n",
       "    .dataframe thead th {\n",
       "        text-align: right;\n",
       "    }\n",
       "</style>\n",
       "<table border=\"1\" class=\"dataframe\">\n",
       "  <thead>\n",
       "    <tr style=\"text-align: right;\">\n",
       "      <th></th>\n",
       "      <th>Observed Values</th>\n",
       "      <th>East</th>\n",
       "      <th>West</th>\n",
       "      <th>North</th>\n",
       "      <th>South</th>\n",
       "    </tr>\n",
       "  </thead>\n",
       "  <tbody>\n",
       "    <tr>\n",
       "      <th>0</th>\n",
       "      <td>Males</td>\n",
       "      <td>50</td>\n",
       "      <td>142</td>\n",
       "      <td>131</td>\n",
       "      <td>70</td>\n",
       "    </tr>\n",
       "    <tr>\n",
       "      <th>1</th>\n",
       "      <td>Females</td>\n",
       "      <td>435</td>\n",
       "      <td>1523</td>\n",
       "      <td>1356</td>\n",
       "      <td>750</td>\n",
       "    </tr>\n",
       "  </tbody>\n",
       "</table>\n",
       "</div>"
      ],
      "text/plain": [
       "  Observed Values  East  West  North  South\n",
       "0           Males    50   142    131     70\n",
       "1         Females   435  1523   1356    750"
      ]
     },
     "execution_count": 54,
     "metadata": {},
     "output_type": "execute_result"
    }
   ],
   "source": [
    "df3.head()"
   ]
  },
  {
   "cell_type": "code",
   "execution_count": 56,
   "id": "8e37aee1",
   "metadata": {
    "ExecuteTime": {
     "end_time": "2023-09-08T15:02:40.849508Z",
     "start_time": "2023-09-08T15:02:40.842528Z"
    }
   },
   "outputs": [],
   "source": [
    "M= df3.iloc[0,1:]\n",
    "F=df3.iloc[1,1:]"
   ]
  },
  {
   "cell_type": "code",
   "execution_count": 107,
   "id": "edbed076",
   "metadata": {
    "ExecuteTime": {
     "end_time": "2023-09-09T11:59:53.302697Z",
     "start_time": "2023-09-09T11:59:53.276789Z"
    }
   },
   "outputs": [
    {
     "data": {
      "text/html": [
       "<div>\n",
       "<style scoped>\n",
       "    .dataframe tbody tr th:only-of-type {\n",
       "        vertical-align: middle;\n",
       "    }\n",
       "\n",
       "    .dataframe tbody tr th {\n",
       "        vertical-align: top;\n",
       "    }\n",
       "\n",
       "    .dataframe thead th {\n",
       "        text-align: right;\n",
       "    }\n",
       "</style>\n",
       "<table border=\"1\" class=\"dataframe\">\n",
       "  <thead>\n",
       "    <tr style=\"text-align: right;\">\n",
       "      <th></th>\n",
       "      <th>East</th>\n",
       "      <th>West</th>\n",
       "      <th>North</th>\n",
       "      <th>South</th>\n",
       "    </tr>\n",
       "  </thead>\n",
       "  <tbody>\n",
       "    <tr>\n",
       "      <th>0</th>\n",
       "      <td>50</td>\n",
       "      <td>142</td>\n",
       "      <td>131</td>\n",
       "      <td>70</td>\n",
       "    </tr>\n",
       "    <tr>\n",
       "      <th>1</th>\n",
       "      <td>435</td>\n",
       "      <td>1523</td>\n",
       "      <td>1356</td>\n",
       "      <td>750</td>\n",
       "    </tr>\n",
       "  </tbody>\n",
       "</table>\n",
       "</div>"
      ],
      "text/plain": [
       "   East  West  North  South\n",
       "0    50   142    131     70\n",
       "1   435  1523   1356    750"
      ]
     },
     "execution_count": 107,
     "metadata": {},
     "output_type": "execute_result"
    }
   ],
   "source": [
    "##df3.drop(columns=['Observed Values'])"
   ]
  },
  {
   "cell_type": "code",
   "execution_count": 98,
   "id": "6f1e911b",
   "metadata": {
    "ExecuteTime": {
     "end_time": "2023-09-08T21:25:53.347839Z",
     "start_time": "2023-09-08T21:25:53.338863Z"
    }
   },
   "outputs": [],
   "source": [
    "data = np.array([[50,142,131,70],[435,1523,1356,750]])"
   ]
  },
  {
   "cell_type": "code",
   "execution_count": 110,
   "id": "8283bca4",
   "metadata": {
    "ExecuteTime": {
     "end_time": "2023-09-09T12:03:59.584548Z",
     "start_time": "2023-09-09T12:03:59.564601Z"
    }
   },
   "outputs": [
    {
     "name": "stdout",
     "output_type": "stream",
     "text": [
      "1.595945538661058 0.6603094907091882 3 [[  42.76531299  146.81287862  131.11756787   72.30424052]\n",
      " [ 442.23468701 1518.18712138 1355.88243213  747.69575948]]\n"
     ]
    }
   ],
   "source": [
    "chi2, p, dof, expected = stats.chi2_contingency(data)\n",
    "print(chi2,p,dof,expected)"
   ]
  },
  {
   "cell_type": "code",
   "execution_count": 113,
   "id": "7ed6e810",
   "metadata": {
    "ExecuteTime": {
     "end_time": "2023-09-09T12:24:15.492840Z",
     "start_time": "2023-09-09T12:24:15.485857Z"
    }
   },
   "outputs": [
    {
     "name": "stdout",
     "output_type": "stream",
     "text": [
      "All proportions are equal\n"
     ]
    }
   ],
   "source": [
    "if p > alpha:\n",
    "    print(\"All proportions are equal\")\n",
    "else:\n",
    "    print(\"All propotions are not equal\")"
   ]
  },
  {
   "cell_type": "markdown",
   "id": "bcb0fcb3",
   "metadata": {},
   "source": [
    "# Question 4"
   ]
  },
  {
   "cell_type": "code",
   "execution_count": 62,
   "id": "21f3a042",
   "metadata": {
    "ExecuteTime": {
     "end_time": "2023-09-08T20:12:23.166903Z",
     "start_time": "2023-09-08T20:12:23.128009Z"
    }
   },
   "outputs": [],
   "source": [
    "df4 = pd.read_csv(\"C:/Users/faraz/Downloads/Costomer+OrderForm.csv\")"
   ]
  },
  {
   "cell_type": "code",
   "execution_count": 63,
   "id": "450b3947",
   "metadata": {
    "ExecuteTime": {
     "end_time": "2023-09-08T20:12:31.435774Z",
     "start_time": "2023-09-08T20:12:31.415827Z"
    }
   },
   "outputs": [
    {
     "data": {
      "text/html": [
       "<div>\n",
       "<style scoped>\n",
       "    .dataframe tbody tr th:only-of-type {\n",
       "        vertical-align: middle;\n",
       "    }\n",
       "\n",
       "    .dataframe tbody tr th {\n",
       "        vertical-align: top;\n",
       "    }\n",
       "\n",
       "    .dataframe thead th {\n",
       "        text-align: right;\n",
       "    }\n",
       "</style>\n",
       "<table border=\"1\" class=\"dataframe\">\n",
       "  <thead>\n",
       "    <tr style=\"text-align: right;\">\n",
       "      <th></th>\n",
       "      <th>Phillippines</th>\n",
       "      <th>Indonesia</th>\n",
       "      <th>Malta</th>\n",
       "      <th>India</th>\n",
       "    </tr>\n",
       "  </thead>\n",
       "  <tbody>\n",
       "    <tr>\n",
       "      <th>0</th>\n",
       "      <td>Error Free</td>\n",
       "      <td>Error Free</td>\n",
       "      <td>Defective</td>\n",
       "      <td>Error Free</td>\n",
       "    </tr>\n",
       "    <tr>\n",
       "      <th>1</th>\n",
       "      <td>Error Free</td>\n",
       "      <td>Error Free</td>\n",
       "      <td>Error Free</td>\n",
       "      <td>Defective</td>\n",
       "    </tr>\n",
       "    <tr>\n",
       "      <th>2</th>\n",
       "      <td>Error Free</td>\n",
       "      <td>Defective</td>\n",
       "      <td>Defective</td>\n",
       "      <td>Error Free</td>\n",
       "    </tr>\n",
       "    <tr>\n",
       "      <th>3</th>\n",
       "      <td>Error Free</td>\n",
       "      <td>Error Free</td>\n",
       "      <td>Error Free</td>\n",
       "      <td>Error Free</td>\n",
       "    </tr>\n",
       "    <tr>\n",
       "      <th>4</th>\n",
       "      <td>Error Free</td>\n",
       "      <td>Error Free</td>\n",
       "      <td>Defective</td>\n",
       "      <td>Error Free</td>\n",
       "    </tr>\n",
       "  </tbody>\n",
       "</table>\n",
       "</div>"
      ],
      "text/plain": [
       "  Phillippines   Indonesia       Malta       India\n",
       "0   Error Free  Error Free   Defective  Error Free\n",
       "1   Error Free  Error Free  Error Free   Defective\n",
       "2   Error Free   Defective   Defective  Error Free\n",
       "3   Error Free  Error Free  Error Free  Error Free\n",
       "4   Error Free  Error Free   Defective  Error Free"
      ]
     },
     "execution_count": 63,
     "metadata": {},
     "output_type": "execute_result"
    }
   ],
   "source": [
    "df4.head()"
   ]
  },
  {
   "cell_type": "code",
   "execution_count": 124,
   "id": "9da71624",
   "metadata": {
    "ExecuteTime": {
     "end_time": "2023-09-09T13:26:23.411876Z",
     "start_time": "2023-09-09T13:26:23.390931Z"
    }
   },
   "outputs": [],
   "source": [
    "table  = pd.crosstab(df4['Phillippines'],[df4['Indonesia'],df4['Malta'],df4['India']])"
   ]
  },
  {
   "cell_type": "code",
   "execution_count": 128,
   "id": "8f196732",
   "metadata": {
    "ExecuteTime": {
     "end_time": "2023-09-09T13:29:02.397395Z",
     "start_time": "2023-09-09T13:29:02.384428Z"
    }
   },
   "outputs": [
    {
     "name": "stdout",
     "output_type": "stream",
     "text": [
      "3.1001395592512266 0.6845505149379718 5 [[8.70000000e-01 1.93333333e-01 2.12666667e+00 2.12666667e+00\n",
      "  1.74000000e+00 2.19433333e+01]\n",
      " [8.13000000e+00 1.80666667e+00 1.98733333e+01 1.98733333e+01\n",
      "  1.62600000e+01 2.05056667e+02]]\n"
     ]
    }
   ],
   "source": [
    "chi4, p4, dof4, expected4 = stats.chi2_contingency(table)\n",
    "print(chi4,p4,dof4,expected4)"
   ]
  },
  {
   "cell_type": "code",
   "execution_count": 129,
   "id": "d3ce3e46",
   "metadata": {
    "ExecuteTime": {
     "end_time": "2023-09-09T13:30:47.991649Z",
     "start_time": "2023-09-09T13:30:47.977686Z"
    }
   },
   "outputs": [
    {
     "name": "stdout",
     "output_type": "stream",
     "text": [
      "There is no significant association between call center and order form quality.\n"
     ]
    }
   ],
   "source": [
    "if p4 > alpha:\n",
    "    print(\"There is no significant association between call center and order form quality.\")\n",
    "else:\n",
    "    print(\"There is a significant association between call center and order form quality.\")"
   ]
  },
  {
   "cell_type": "code",
   "execution_count": 1,
   "id": "00abb4de",
   "metadata": {
    "ExecuteTime": {
     "end_time": "2024-03-26T11:09:02.246843Z",
     "start_time": "2024-03-26T11:09:02.213933Z"
    }
   },
   "outputs": [
    {
     "data": {
      "text/plain": [
       "'C:\\\\Users\\\\faraz'"
      ]
     },
     "execution_count": 1,
     "metadata": {},
     "output_type": "execute_result"
    }
   ],
   "source": [
    "pwd()"
   ]
  },
  {
   "cell_type": "code",
   "execution_count": null,
   "id": "8fec41e0",
   "metadata": {},
   "outputs": [],
   "source": []
  }
 ],
 "metadata": {
  "_draft": {
   "nbviewer_url": "https://gist.github.com/its-0faraz/23b6716c1fee5e0eeba259b086cc204f"
  },
  "gist": {
   "data": {
    "description": "Untitled1.ipynb",
    "public": true
   },
   "id": "23b6716c1fee5e0eeba259b086cc204f"
  },
  "kernelspec": {
   "display_name": "Python 3 (ipykernel)",
   "language": "python",
   "name": "python3"
  },
  "language_info": {
   "codemirror_mode": {
    "name": "ipython",
    "version": 3
   },
   "file_extension": ".py",
   "mimetype": "text/x-python",
   "name": "python",
   "nbconvert_exporter": "python",
   "pygments_lexer": "ipython3",
   "version": "3.9.13"
  }
 },
 "nbformat": 4,
 "nbformat_minor": 5
}
