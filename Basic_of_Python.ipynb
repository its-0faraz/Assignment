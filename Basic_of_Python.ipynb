{
  "nbformat": 4,
  "nbformat_minor": 0,
  "metadata": {
    "colab": {
      "provenance": [],
      "authorship_tag": "ABX9TyPzPWAU2DCD+B860ylS+pVU",
      "include_colab_link": true
    },
    "kernelspec": {
      "name": "python3",
      "display_name": "Python 3"
    },
    "language_info": {
      "name": "python"
    }
  },
  "cells": [
    {
      "cell_type": "markdown",
      "metadata": {
        "id": "view-in-github",
        "colab_type": "text"
      },
      "source": [
        "<a href=\"https://colab.research.google.com/github/Rahman17309/ASSIGNMENT1/blob/main/Basic_of_Python.ipynb\" target=\"_parent\"><img src=\"https://colab.research.google.com/assets/colab-badge.svg\" alt=\"Open In Colab\"/></a>"
      ]
    },
    {
      "cell_type": "markdown",
      "source": [
        "# ***`Python Programming Assignment`***"
      ],
      "metadata": {
        "id": "eltlkgotwGAq"
      }
    },
    {
      "cell_type": "markdown",
      "source": [
        "Exercise 1: Prime Numbers\n",
        "\n",
        "Write a Python program that checks whether a given number is prime or not. A prime number is a natural number greater than 1 that has no positive divisors other than 1 and itself.\n",
        "\n",
        "Exercise 2: Product of Random Numbers\n",
        "\n",
        "Develop a Python program that generates two random numbers and asks the user to enter the product of these numbers. The program should then check if the user's answer is correct and display an appropriate message.\n",
        "\n",
        "Exercise 3: Squares of Even/Odd Numbers\n",
        "\n",
        "Create a Python script that prints the squares of all even or odd numbers within the range of 100 to 200. Choose either even or odd numbers and document your choice in the code.\n",
        "\n",
        "Exercise 4: Word counter\n",
        "write a program to count the number of words in a given text.\n",
        "\n",
        "example:\n",
        "\n",
        "input_text = \"This is a sample text. This text will be used to demonstrate the word counter.\"\n",
        "\n",
        "Expected output:\n",
        "\n",
        "'This': 2\n",
        "\n",
        "'is': 1\n",
        "\n",
        "'a': 1\n",
        "\n",
        "'sample': 1\n",
        "\n",
        "'text.': 1\n",
        "\n",
        "\n",
        "Exercise 5: Check for Palindrome\n",
        "\n",
        "Write a Python function called is_palindrome that takes a string as input and returns True if the string is a palindrome, and False otherwise. A palindrome is a word, phrase, number, or other sequence of characters that reads the same forward and backward, ignoring spaces, punctuation, and capitalization.\n",
        "\n",
        "Example:\n",
        "\n",
        "Input: \"racecar\"\n",
        "\n",
        "Expected Output: True"
      ],
      "metadata": {
        "id": "GRqQMkocvsrK"
      }
    },
    {
      "cell_type": "markdown",
      "source": [
        "# Exercise 1: Prime Numbers\n",
        "\n",
        "Write a Python program that checks whether a given number is prime or not. A prime number is a natural number greater than 1 that has no positive divisors other than 1 and itself."
      ],
      "metadata": {
        "id": "3uSiYjxXwLiw"
      }
    },
    {
      "cell_type": "code",
      "source": [
        "def is_prime(n):\n",
        "    \"\"\"Check if a number is prime.\n",
        "\n",
        "    Args:\n",
        "        n (int): The number to check.\n",
        "\n",
        "    Returns:\n",
        "        bool: True if the number is prime, False otherwise.\n",
        "    \"\"\"\n",
        "    # Early elimination for numbers less than 2\n",
        "    if n <= 1:\n",
        "        return False\n",
        "\n",
        "    # Check divisibility from 2 up to the square root of n\n",
        "    for i in range(2, int(n**0.5) + 1):\n",
        "        if n % i == 0:\n",
        "            return False\n",
        "\n",
        "    return True\n",
        "\n",
        "# Example usage\n",
        "number = int(input(\"Enter a number: \"))\n",
        "if is_prime(number):\n",
        "    print(f\"{number} is a prime number.\")\n",
        "else:\n",
        "    print(f\"{number} is not a prime number.\")"
      ],
      "metadata": {
        "colab": {
          "base_uri": "https://localhost:8080/"
        },
        "id": "hNMg-ZAnwMA4",
        "outputId": "7bbb62b5-3208-4b66-87f6-aca3f8605e93"
      },
      "execution_count": 1,
      "outputs": [
        {
          "output_type": "stream",
          "name": "stdout",
          "text": [
            "Enter a number: 2\n",
            "2 is a prime number.\n"
          ]
        }
      ]
    },
    {
      "cell_type": "markdown",
      "source": [
        "## **Explanation**\n",
        "\n",
        "**Function Definition:**\n",
        "\n",
        "The function is_prime takes an integer n as input and returns a boolean indicating whether n is a prime number.\n",
        "\n",
        "**Initial Check:**\n",
        "\n",
        "If n is less than or equal to 1, it is not prime by definition, so the function immediately returns False.\n",
        "\n",
        "**Loop for Divisibility Check:**\n",
        "\n",
        "The function then iterates from 2 up to the square root of n (inclusive). This is achieved using range(2, int(n**0.5) + 1).\n",
        "For each number i in this range, the function checks if n is divisible by i (n % i == 0). If it is, n is not prime, and the function returns False.\n",
        "\n",
        "**Prime Confirmation:**\n",
        "\n",
        "If the loop completes without finding any divisors, the function returns True, indicating that n is a prime number.\n",
        "\n",
        "**Usage**\n",
        "\n",
        "The program reads an integer from the user, calls the is_prime function, and prints whether the number is prime or not."
      ],
      "metadata": {
        "id": "arzTRpCnw5Vh"
      }
    },
    {
      "cell_type": "markdown",
      "source": [
        "# Exercise 2: Product of Random Numbers\n",
        "\n",
        "Develop a Python program that generates two random numbers and asks the user to enter the product of these numbers. The program should then check if the user's answer is correct and display an appropriate message."
      ],
      "metadata": {
        "id": "wzFH9d1kxH1S"
      }
    },
    {
      "cell_type": "markdown",
      "source": [
        "Correct one"
      ],
      "metadata": {
        "id": "Q7_njaMEyG1J"
      }
    },
    {
      "cell_type": "code",
      "source": [
        "import random\n",
        "\n",
        "def generate_random_numbers():\n",
        "    \"\"\"Generate two random integers between 1 and 100.\"\"\"\n",
        "    num1 = random.randint(1, 100)\n",
        "    num2 = random.randint(1, 100)\n",
        "    return num1, num2\n",
        "\n",
        "def main():\n",
        "    # Generate two random numbers\n",
        "    num1, num2 = generate_random_numbers()\n",
        "\n",
        "    # Calculate the correct product\n",
        "    correct_product = num1 * num2\n",
        "\n",
        "    # Prompt the user to enter the product\n",
        "    print(f\"Please multiply the following numbers: {num1} and {num2}\")\n",
        "    user_input = input(\"Enter the product: \")\n",
        "\n",
        "    # Check if the user's input is correct\n",
        "    try:\n",
        "        user_product = int(user_input)\n",
        "        if user_product == correct_product:\n",
        "            print(\"Correct! Well done.\")\n",
        "        else:\n",
        "            print(f\"Incorrect. The correct product is {correct_product}.\")\n",
        "    except ValueError:\n",
        "        print(\"Invalid input. Please enter a valid integer.\")\n",
        "\n",
        "if __name__ == \"__main__\":\n",
        "    main()"
      ],
      "metadata": {
        "colab": {
          "base_uri": "https://localhost:8080/"
        },
        "id": "Fu1rPBg6wL9a",
        "outputId": "528721a7-9783-4a06-c803-c8e16c18772b"
      },
      "execution_count": 4,
      "outputs": [
        {
          "output_type": "stream",
          "name": "stdout",
          "text": [
            "Please multiply the following numbers: 63 and 25\n",
            "Enter the product: 1575\n",
            "Correct! Well done.\n"
          ]
        }
      ]
    },
    {
      "cell_type": "markdown",
      "source": [
        "Incorrect one"
      ],
      "metadata": {
        "id": "3Ou8Pq3TyE18"
      }
    },
    {
      "cell_type": "code",
      "source": [
        "import random\n",
        "\n",
        "def generate_random_numbers():\n",
        "    \"\"\"Generate two random integers between 1 and 100.\"\"\"\n",
        "    num1 = random.randint(1, 100)\n",
        "    num2 = random.randint(1, 100)\n",
        "    return num1, num2\n",
        "\n",
        "def main():\n",
        "    # Generate two random numbers\n",
        "    num1, num2 = generate_random_numbers()\n",
        "\n",
        "    # Calculate the correct product\n",
        "    correct_product = num1 * num2\n",
        "\n",
        "    # Prompt the user to enter the product\n",
        "    print(f\"Please multiply the following numbers: {num1} and {num2}\")\n",
        "    user_input = input(\"Enter the product: \")\n",
        "\n",
        "    # Check if the user's input is correct\n",
        "    try:\n",
        "        user_product = int(user_input)\n",
        "        if user_product == correct_product:\n",
        "            print(\"Correct! Well done.\")\n",
        "        else:\n",
        "            print(f\"Incorrect. The correct product is {correct_product}.\")\n",
        "    except ValueError:\n",
        "        print(\"Invalid input. Please enter a valid integer.\")\n",
        "\n",
        "if __name__ == \"__main__\":\n",
        "    main()"
      ],
      "metadata": {
        "colab": {
          "base_uri": "https://localhost:8080/"
        },
        "id": "VvJjEzjxyAkg",
        "outputId": "4816098d-8ec7-4579-b27a-a0b53db37821"
      },
      "execution_count": 5,
      "outputs": [
        {
          "output_type": "stream",
          "name": "stdout",
          "text": [
            "Please multiply the following numbers: 84 and 90\n",
            "Enter the product: 5963\n",
            "Incorrect. The correct product is 7560.\n"
          ]
        }
      ]
    },
    {
      "cell_type": "markdown",
      "source": [
        "## **Explanation**\n",
        "\n",
        "**Importing the Random Module:**\n",
        "\n",
        "import random allows the program to generate random numbers.\n",
        "Function to Generate Random Numbers:\n",
        "\n",
        "generate_random_numbers() generates two random integers between 1 and 100 using random.randint(1, 100) and returns them.\n",
        "\n",
        "**Main Function:**\n",
        "\n",
        "The main() function is the core of the program.\n",
        "\n",
        "It calls generate_random_numbers() to get two random numbers.\n",
        "\n",
        "It calculates the correct product of these two numbers.\n",
        "\n",
        "It prompts the user to enter the product of the two numbers using input().\n",
        "It checks if the user's input is correct.\n",
        "\n",
        "If the user's input is correct, it prints a congratulatory message. Otherwise, it prints the correct product.\n",
        "\n",
        "If the user's input is not a valid integer, it catches the ValueError and prints an error message.\n",
        "\n",
        "**Running the Program:**\n",
        "\n",
        "if __name__ == \"__main__\": main() ensures that the main() function runs when the script is executed directly.\n",
        "\n",
        "**Usage**\n",
        "\n",
        "When you run the program, it will generate two random numbers and display a message asking the user to multiply these numbers.\n",
        "\n",
        "The user is prompted to enter the product.\n",
        "\n",
        "The program checks the user's answer and provides appropriate feedback."
      ],
      "metadata": {
        "id": "ifI0JQhPxjGK"
      }
    },
    {
      "cell_type": "markdown",
      "source": [
        "# Exercise 3: Squares of Even/Odd Numbers\n",
        "\n",
        "Create a Python script that prints the squares of all even or odd numbers within the range of 100 to 200. Choose either even or odd numbers and document your choice in the code."
      ],
      "metadata": {
        "id": "Dgp9Fan5yJ1j"
      }
    },
    {
      "cell_type": "code",
      "source": [
        "def print_even_squares(start, end):\n",
        "    \"\"\"Print the squares of all even numbers within the given range.\n",
        "\n",
        "    Args:\n",
        "        start (int): The starting number of the range.\n",
        "        end (int): The ending number of the range.\n",
        "    \"\"\"\n",
        "    for number in range(start, end + 1):\n",
        "        if number % 2 == 0:  # Check if the number is even\n",
        "            print(f\"The square of {number} is {number**2}\")\n",
        "\n",
        "def main():\n",
        "    # Define the range\n",
        "    start = 100\n",
        "    end = 200\n",
        "\n",
        "    # Print squares of even numbers in the specified range\n",
        "    print_even_squares(start, end)\n",
        "\n",
        "if __name__ == \"__main__\":\n",
        "    main()"
      ],
      "metadata": {
        "colab": {
          "base_uri": "https://localhost:8080/"
        },
        "id": "yaaGZ9EowL6h",
        "outputId": "7d7c18ab-457a-4d1c-846a-c4775b151ba8"
      },
      "execution_count": 6,
      "outputs": [
        {
          "output_type": "stream",
          "name": "stdout",
          "text": [
            "The square of 100 is 10000\n",
            "The square of 102 is 10404\n",
            "The square of 104 is 10816\n",
            "The square of 106 is 11236\n",
            "The square of 108 is 11664\n",
            "The square of 110 is 12100\n",
            "The square of 112 is 12544\n",
            "The square of 114 is 12996\n",
            "The square of 116 is 13456\n",
            "The square of 118 is 13924\n",
            "The square of 120 is 14400\n",
            "The square of 122 is 14884\n",
            "The square of 124 is 15376\n",
            "The square of 126 is 15876\n",
            "The square of 128 is 16384\n",
            "The square of 130 is 16900\n",
            "The square of 132 is 17424\n",
            "The square of 134 is 17956\n",
            "The square of 136 is 18496\n",
            "The square of 138 is 19044\n",
            "The square of 140 is 19600\n",
            "The square of 142 is 20164\n",
            "The square of 144 is 20736\n",
            "The square of 146 is 21316\n",
            "The square of 148 is 21904\n",
            "The square of 150 is 22500\n",
            "The square of 152 is 23104\n",
            "The square of 154 is 23716\n",
            "The square of 156 is 24336\n",
            "The square of 158 is 24964\n",
            "The square of 160 is 25600\n",
            "The square of 162 is 26244\n",
            "The square of 164 is 26896\n",
            "The square of 166 is 27556\n",
            "The square of 168 is 28224\n",
            "The square of 170 is 28900\n",
            "The square of 172 is 29584\n",
            "The square of 174 is 30276\n",
            "The square of 176 is 30976\n",
            "The square of 178 is 31684\n",
            "The square of 180 is 32400\n",
            "The square of 182 is 33124\n",
            "The square of 184 is 33856\n",
            "The square of 186 is 34596\n",
            "The square of 188 is 35344\n",
            "The square of 190 is 36100\n",
            "The square of 192 is 36864\n",
            "The square of 194 is 37636\n",
            "The square of 196 is 38416\n",
            "The square of 198 is 39204\n",
            "The square of 200 is 40000\n"
          ]
        }
      ]
    },
    {
      "cell_type": "markdown",
      "source": [
        "##**Explanation**\n",
        "\n",
        "**Function Definition:**\n",
        "\n",
        "print_even_squares(start, end): This function takes two arguments, start and end, which define the range of numbers to check. It iterates through this range, checks if each number is even, and if so, prints its square.\n",
        "The function uses number % 2 == 0 to check if a number is even.\n",
        "\n",
        "**Main Function:**\n",
        "\n",
        "The main() function defines the range (from 100 to 200) and calls the print_even_squares(start, end) function to print the squares of even numbers in this range.\n",
        "\n",
        "**Running the Program:**\n",
        "\n",
        "if __name__ == \"__main__\": main() ensures that the main() function runs when the script is executed directly."
      ],
      "metadata": {
        "id": "MR6ZvsoCybyg"
      }
    },
    {
      "cell_type": "markdown",
      "source": [
        "# Exercise 4: Word counter\n",
        "\n",
        "write a program to count the number of words in a given text.\n",
        "\n",
        "example:\n",
        "\n",
        "input_text = \"This is a sample text. This text will be used to demonstrate the word counter.\"\n",
        "\n",
        "Expected output:\n",
        "\n",
        "'This': 2\n",
        "\n",
        "'is': 1\n",
        "\n",
        "'a': 1\n",
        "\n",
        "'sample': 1\n",
        "\n",
        "'text.': 1"
      ],
      "metadata": {
        "id": "7Qj14eYlyqh4"
      }
    },
    {
      "cell_type": "code",
      "source": [
        "def count_words(text):\n",
        "    \"\"\"Count the number of occurrences of each word in the given text.\n",
        "\n",
        "    Args:\n",
        "        text (str): The input text to analyze.\n",
        "\n",
        "    Returns:\n",
        "        dict: A dictionary with words as keys and their counts as values.\n",
        "    \"\"\"\n",
        "    # Remove punctuation and convert text to lowercase for case-insensitive counting\n",
        "    text = text.lower()\n",
        "\n",
        "    # Replace punctuation with spaces\n",
        "    for char in '.,!?;:()[]{}\"\\'\\\\/-':\n",
        "        text = text.replace(char, \" \")\n",
        "\n",
        "    # Split the text into words\n",
        "    words = text.split()\n",
        "\n",
        "    # Initialize an empty dictionary to store word counts\n",
        "    word_count = {}\n",
        "\n",
        "    # Count the occurrences of each word\n",
        "    for word in words:\n",
        "        if word in word_count:\n",
        "            word_count[word] += 1\n",
        "        else:\n",
        "            word_count[word] = 1\n",
        "\n",
        "    return word_count\n",
        "\n",
        "def print_word_counts(word_count):\n",
        "    \"\"\"Print the word counts in the desired format.\n",
        "\n",
        "    Args:\n",
        "        word_count (dict): A dictionary with words as keys and their counts as values.\n",
        "    \"\"\"\n",
        "    for word, count in word_count.items():\n",
        "        print(f\"'{word}': {count}\")\n",
        "\n",
        "def main():\n",
        "    # Example input text\n",
        "    input_text = \"This is a sample text. This text will be used to demonstrate the word counter.\"\n",
        "\n",
        "    # Get the word counts\n",
        "    word_count = count_words(input_text)\n",
        "\n",
        "    # Print the word counts\n",
        "    print_word_counts(word_count)\n",
        "\n",
        "if __name__ == \"__main__\":\n",
        "    main()"
      ],
      "metadata": {
        "colab": {
          "base_uri": "https://localhost:8080/"
        },
        "id": "IagI2t24wL3Y",
        "outputId": "bd758131-6d5c-4391-b7b9-ad8c556da085"
      },
      "execution_count": 7,
      "outputs": [
        {
          "output_type": "stream",
          "name": "stdout",
          "text": [
            "'this': 2\n",
            "'is': 1\n",
            "'a': 1\n",
            "'sample': 1\n",
            "'text': 2\n",
            "'will': 1\n",
            "'be': 1\n",
            "'used': 1\n",
            "'to': 1\n",
            "'demonstrate': 1\n",
            "'the': 1\n",
            "'word': 1\n",
            "'counter': 1\n"
          ]
        }
      ]
    },
    {
      "cell_type": "markdown",
      "source": [
        "## **Explanation**\n",
        "\n",
        "**Function count_words(text):**\n",
        "\n",
        "Converts the text to lowercase to ensure case-insensitive counting.\n",
        "Removes punctuation by replacing punctuation characters with spaces.\n",
        "Splits the text into words using split(), which defaults to splitting by whitespace.\n",
        "\n",
        "Counts the occurrences of each word using a dictionary where the key is the word and the value is the count.\n",
        "\n",
        "**Function print_word_counts(word_count):**\n",
        "\n",
        "Iterates over the dictionary items and prints each word and its count in the specified format.\n",
        "\n",
        "**Main Function:**\n",
        "\n",
        "Defines an example input text.\n",
        "Calls count_words(input_text) to get the word counts.\n",
        "Calls print_word_counts(word_count) to print the word counts.\n",
        "\n",
        "**Running the Program:**\n",
        "\n",
        "if __name__ == \"__main__\": main() ensures that the main() function runs when the script is executed directly."
      ],
      "metadata": {
        "id": "1cUEGG_DzBcJ"
      }
    },
    {
      "cell_type": "markdown",
      "source": [
        "# Exercise 5: Check for Palindrome\n",
        "\n",
        "Write a Python function called is_palindrome that takes a string as input and returns True if the string is a palindrome, and False otherwise. A palindrome is a word, phrase, number, or other sequence of characters that reads the same forward and backward, ignoring spaces, punctuation, and capitalization.\n",
        "\n",
        "Example:\n",
        "\n",
        "Input: \"racecar\"\n",
        "\n",
        "Expected Output: True"
      ],
      "metadata": {
        "id": "THrmuqShzSBJ"
      }
    },
    {
      "cell_type": "markdown",
      "source": [
        "To determine if a string is a palindrome, we need to:\n",
        "\n",
        "1. Normalize the string by converting it to lowercase and removing spaces and punctuation.\n",
        "\n",
        "2. Check if the normalized string reads the same forward and backward."
      ],
      "metadata": {
        "id": "FgIWOXwJzg_f"
      }
    },
    {
      "cell_type": "code",
      "source": [
        "import re\n",
        "\n",
        "def is_palindrome(s):\n",
        "    \"\"\"Check if the input string is a palindrome.\n",
        "\n",
        "    Args:\n",
        "        s (str): The input string to check.\n",
        "\n",
        "    Returns:\n",
        "        bool: True if the string is a palindrome, False otherwise.\n",
        "    \"\"\"\n",
        "    # Normalize the string: remove non-alphanumeric characters and convert to lowercase\n",
        "    normalized_str = re.sub(r'[^A-Za-z0-9]', '', s).lower()\n",
        "\n",
        "    # Check if the normalized string is the same forwards and backwards\n",
        "    return normalized_str == normalized_str[::-1]\n",
        "\n",
        "# Example usage\n",
        "input_str = \"racecar\"\n",
        "print(f\"Is '{input_str}' a palindrome? {is_palindrome(input_str)}\")\n",
        "\n",
        "input_str = \"A man, a plan, a canal, Panama!\"\n",
        "print(f\"Is '{input_str}' a palindrome? {is_palindrome(input_str)}\")"
      ],
      "metadata": {
        "colab": {
          "base_uri": "https://localhost:8080/"
        },
        "id": "a17IUsMOwL0I",
        "outputId": "15e6a2ce-6cde-4292-d2a5-890d341c1042"
      },
      "execution_count": 8,
      "outputs": [
        {
          "output_type": "stream",
          "name": "stdout",
          "text": [
            "Is 'racecar' a palindrome? True\n",
            "Is 'A man, a plan, a canal, Panama!' a palindrome? True\n"
          ]
        }
      ]
    },
    {
      "cell_type": "markdown",
      "source": [
        "## **Explanation**\n",
        "\n",
        "**Importing the re Module:**\n",
        "\n",
        "import re allows the use of regular expressions for string manipulation.\n",
        "\n",
        "**Function is_palindrome(s):**\n",
        "\n",
        "Takes a string s as input.\n",
        "\n",
        "**Normalization:** Uses re.sub(r'[^A-Za-z0-9]', '', s).lower() to:\n",
        "\n",
        "Remove all non-alphanumeric characters ([^A-Za-z0-9] matches any character that is not a letter or digit).\n",
        "\n",
        "Convert the string to lowercase to ensure case insensitivity.\n",
        "\n",
        "**Palindrome Check:**\n",
        "\n",
        "Compares the normalized string to its reverse using slicing (normalized_str == normalized_str[::-1])."
      ],
      "metadata": {
        "id": "n3CHZgh7zg8n"
      }
    }
  ]
}